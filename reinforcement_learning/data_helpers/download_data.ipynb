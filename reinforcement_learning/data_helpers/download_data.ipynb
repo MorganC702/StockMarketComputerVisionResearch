{
 "cells": [
  {
   "cell_type": "code",
   "execution_count": null,
   "id": "876c7863",
   "metadata": {},
   "outputs": [
    {
     "name": "stderr",
     "output_type": "stream",
     "text": [
      "/var/folders/by/24jm3kg56bqc__yntqtthmyw0000gn/T/ipykernel_10690/2886748142.py:13: DeprecationWarning: datetime.datetime.utcnow() is deprecated and scheduled for removal in a future version. Use timezone-aware objects to represent datetimes in UTC: datetime.datetime.now(datetime.UTC).\n",
      "  end_date = datetime.utcnow().date()\n"
     ]
    },
    {
     "name": "stdout",
     "output_type": "stream",
     "text": [
      "⏳ Downloading 1y of C:EURUSD 1m aggregates via Polygon client...\n",
      "✅ Retrieved 368307 bars\n",
      "✅ Saved 368307 rows to agg_data/fx/C:EURUSD_1m_last1y.csv\n"
     ]
    }
   ],
   "source": [
    "import os\n",
    "import pandas as pd\n",
    "\n",
    "from polygon import RESTClient\n",
    "from datetime import datetime, timedelta, timezone\n",
    "\n",
    "\n",
    "# --- Config ---\n",
    "API_KEY = os.getenv(\"POLYGON_API_KEY\")  # make sure this is set\n",
    "PAIR = \"C:EURUSD\"  # FX ticker format\n",
    "base_dir = \"../data/agg_data/fx/\"\n",
    "os.makedirs(base_dir, exist_ok=True)\n",
    "\n",
    "# --- Date range: last 1 year ---\n",
    "end_date = datetime.now(timezone.utc).date()\n",
    "start_date = end_date - timedelta(days=365)\n",
    "\n",
    "# --- Initialize Polygon client ---\n",
    "client = RESTClient(api_key=API_KEY)\n",
    "\n",
    "# --- Fetch aggregates (pagination handled automatically) ---\n",
    "print(f\"⏳ Downloading 1y of {PAIR} 1m aggregates via Polygon client...\")\n",
    "aggs = []\n",
    "for bar in client.list_aggs(\n",
    "    ticker=PAIR,\n",
    "    multiplier=1,\n",
    "    timespan=\"minute\",\n",
    "    from_=str(start_date),\n",
    "    to=str(end_date),\n",
    "    adjusted=True,\n",
    "    limit=50000,  # page size; client auto-paginates\n",
    "):\n",
    "    aggs.append(bar)\n",
    "\n",
    "print(f\"✅ Retrieved {len(aggs)} bars\")\n",
    "\n",
    "# --- Convert to DataFrame ---\n",
    "df = pd.DataFrame([a.__dict__ for a in aggs])\n",
    "\n",
    "# Convert timestamp\n",
    "df[\"timestamp\"] = pd.to_datetime(df[\"timestamp\"], unit=\"ms\")\n",
    "\n",
    "# Save to CSV\n",
    "out_path = os.path.join(base_dir, f\"{PAIR}_1m_last1y.csv\")\n",
    "df.to_csv(out_path, index=False)\n",
    "\n",
    "print(f\"✅ Saved {len(df)} rows to {out_path}\")\n"
   ]
  }
 ],
 "metadata": {
  "kernelspec": {
   "display_name": "Python 3",
   "language": "python",
   "name": "python3"
  },
  "language_info": {
   "codemirror_mode": {
    "name": "ipython",
    "version": 3
   },
   "file_extension": ".py",
   "mimetype": "text/x-python",
   "name": "python",
   "nbconvert_exporter": "python",
   "pygments_lexer": "ipython3",
   "version": "3.13.7"
  }
 },
 "nbformat": 4,
 "nbformat_minor": 5
}
