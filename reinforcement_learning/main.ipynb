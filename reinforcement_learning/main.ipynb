{
 "cells": [
  {
   "cell_type": "code",
   "execution_count": null,
   "id": "402d8781",
   "metadata": {},
   "outputs": [],
   "source": [
    "import pandas as pd\n",
    "from stable_baselines3 import PPO\n",
    "from stable_baselines3.common.env_util import make_vec_env\n",
    "\n",
    "from trading_env import TradingEnv\n",
    "from custom_policy import CustomYOLOPolicy\n",
    "\n",
    "# --- Load your meta.csv ---\n",
    "meta_df = pd.read_csv(\"dataset/meta.csv\", parse_dates=[\"timestamp\"])\n",
    "\n",
    "# --- Create your environment ---\n",
    "def make_env():\n",
    "    return TradingEnv(meta_df)\n",
    "\n",
    "# Wrap in a vectorized env (even with 1 env, SB3 expects this)\n",
    "vec_env = make_vec_env(make_env, n_envs=1)\n",
    "\n",
    "# --- Create PPO model ---\n",
    "model = PPO(\n",
    "    policy=CustomYOLOPolicy,\n",
    "    env=vec_env,\n",
    "    verbose=1,\n",
    "    n_steps=2048,\n",
    "    batch_size=64,\n",
    "    learning_rate=3e-4,\n",
    "    ent_coef=0.01,\n",
    "    tensorboard_log=\"./logs\"\n",
    ")\n",
    "\n",
    "# --- Train the model ---\n",
    "model.learn(total_timesteps=100_000)\n",
    "\n",
    "# --- Save it ---\n",
    "model.save(\"ppo-yolo-trading\")\n",
    "print(\"✅ Training complete. Model saved to: ppo-yolo-trading\")\n"
   ]
  }
 ],
 "metadata": {
  "kernelspec": {
   "display_name": "Python 3",
   "language": "python",
   "name": "python3"
  },
  "language_info": {
   "name": "python",
   "version": "3.13.7"
  }
 },
 "nbformat": 4,
 "nbformat_minor": 5
}
