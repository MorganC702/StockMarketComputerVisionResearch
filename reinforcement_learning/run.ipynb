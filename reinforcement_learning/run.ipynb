{
 "cells": [
  {
   "cell_type": "code",
   "execution_count": 1,
   "id": "ab571abe",
   "metadata": {},
   "outputs": [
    {
     "name": "stdout",
     "output_type": "stream",
     "text": [
      "True\n",
      "NVIDIA GeForce RTX 4080\n"
     ]
    }
   ],
   "source": [
    "import torch\n",
    "print(torch.cuda.is_available())   # should be True\n",
    "print(torch.cuda.get_device_name(0))  # should show your GPU model\n",
    "\n"
   ]
  },
  {
   "cell_type": "code",
   "execution_count": null,
   "id": "79461120",
   "metadata": {},
   "outputs": [
    {
     "name": "stderr",
     "output_type": "stream",
     "text": [
      "Gym has been unmaintained since 2022 and does not support NumPy 2.0 amongst other critical functionality.\n",
      "Please upgrade to Gymnasium, the maintained drop-in replacement of Gym, or contact the authors of your software and request that they upgrade.\n",
      "Users of this version of Gym should be able to simply replace 'import gym' with 'import gymnasium as gym' in the vast majority of cases.\n",
      "See the migration guide at https://gymnasium.farama.org/introduction/migration_guide/ for additional information.\n"
     ]
    },
    {
     "name": "stdout",
     "output_type": "stream",
     "text": [
      "Using cuda device\n",
      "Logging to ./tensorboard_logs/PPO_5\n"
     ]
    }
   ],
   "source": [
    "from pathlib import Path\n",
    "import pandas as pd\n",
    "from stable_baselines3 import PPO\n",
    "from stable_baselines3.common.vec_env import DummyVecEnv, VecNormalize\n",
    "from stable_baselines3.common.monitor import Monitor\n",
    "from stable_baselines3.common.callbacks import EvalCallback\n",
    "\n",
    "from environment.trading_environment import TradingEnv\n",
    "from models.yolo_extractor import YOLOCNNExtractor\n",
    "\n",
    "# --- Load data ---\n",
    "meta_df = pd.read_csv(\"./data/dataset/metadata.csv\", parse_dates=[\"timestamp\"])\n",
    "\n",
    "# --- Factory functions ---\n",
    "def make_train_env():\n",
    "    env = TradingEnv(meta_df)\n",
    "    env = Monitor(env, \"./monitor_logs/\")\n",
    "    return env\n",
    "\n",
    "def make_eval_env():\n",
    "    env = TradingEnv(meta_df)\n",
    "    env = Monitor(env, \"./eval_monitor_logs/\")\n",
    "    return env\n",
    "\n",
    "\n",
    "# --- Build envs ---\n",
    "train_env = DummyVecEnv([make_train_env])\n",
    "train_env = VecNormalize(train_env, norm_obs=True, norm_reward=True, clip_obs=10.)\n",
    "\n",
    "eval_env = DummyVecEnv([make_eval_env])\n",
    "eval_env = VecNormalize(eval_env, norm_obs=True, norm_reward=True, clip_obs=10.)\n",
    "\n",
    "# --- PPO setup ---\n",
    "policy_kwargs = dict(\n",
    "    features_extractor_class=YOLOCNNExtractor,\n",
    "    features_extractor_kwargs=dict(\n",
    "        model_path=\"./models/best.pt\",\n",
    "        features_dim=512,\n",
    "    ),\n",
    ")\n",
    "\n",
    "model = PPO(\n",
    "    \"MultiInputPolicy\",\n",
    "    train_env,\n",
    "    n_steps=128,\n",
    "    batch_size=32,\n",
    "    n_epochs=4,\n",
    "    learning_rate=3e-4,\n",
    "    policy_kwargs=policy_kwargs,\n",
    "    verbose=1,\n",
    "    device=\"cuda\",\n",
    "    tensorboard_log=\"./tensorboard_logs/\"\n",
    ")\n",
    "\n",
    "# --- Eval callback ---\n",
    "eval_callback = EvalCallback(\n",
    "    eval_env,\n",
    "    best_model_save_path=\"./models/rl/\",\n",
    "    log_path=\"./logs/\",\n",
    "    eval_freq=10_000,       # every N steps\n",
    "    n_eval_episodes=1,   #\n",
    "    deterministic=True,\n",
    "    render=False,\n",
    ")\n",
    "\n",
    "# --- Train ---\n",
    "model.learn(total_timesteps=200_000, callback=eval_callback)\n",
    "\n",
    "# --- Save model + normalization stats ---\n",
    "model.save(\"./models/rl/final_model\")\n",
    "train_env.save(\"./models/rl/vecnormalize.pkl\")\n",
    "\n"
   ]
  }
 ],
 "metadata": {
  "kernelspec": {
   "display_name": "Python 3",
   "language": "python",
   "name": "python3"
  },
  "language_info": {
   "codemirror_mode": {
    "name": "ipython",
    "version": 3
   },
   "file_extension": ".py",
   "mimetype": "text/x-python",
   "name": "python",
   "nbconvert_exporter": "python",
   "pygments_lexer": "ipython3",
   "version": "3.13.7"
  }
 },
 "nbformat": 4,
 "nbformat_minor": 5
}
