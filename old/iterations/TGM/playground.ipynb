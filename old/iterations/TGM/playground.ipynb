{
 "cells": [
  {
   "cell_type": "code",
   "execution_count": 1,
   "id": "51964e02",
   "metadata": {},
   "outputs": [
    {
     "ename": "NameError",
     "evalue": "name 'dfs' is not defined",
     "output_type": "error",
     "traceback": [
      "\u001b[31m---------------------------------------------------------------------------\u001b[39m",
      "\u001b[31mNameError\u001b[39m                                 Traceback (most recent call last)",
      "\u001b[36mCell\u001b[39m\u001b[36m \u001b[39m\u001b[32mIn[1]\u001b[39m\u001b[32m, line 21\u001b[39m\n\u001b[32m     13\u001b[39m tf_strength = {\n\u001b[32m     14\u001b[39m     \u001b[33m\"\u001b[39m\u001b[33m1m\u001b[39m\u001b[33m\"\u001b[39m: \u001b[32m1.0\u001b[39m,\n\u001b[32m     15\u001b[39m     \u001b[33m\"\u001b[39m\u001b[33m5m\u001b[39m\u001b[33m\"\u001b[39m: \u001b[32m2.0\u001b[39m,\n\u001b[32m     16\u001b[39m     \u001b[33m\"\u001b[39m\u001b[33m1h\u001b[39m\u001b[33m\"\u001b[39m: \u001b[32m4.0\u001b[39m,\n\u001b[32m     17\u001b[39m     \u001b[33m\"\u001b[39m\u001b[33m1d\u001b[39m\u001b[33m\"\u001b[39m: \u001b[32m8.0\u001b[39m,\n\u001b[32m     18\u001b[39m }\n\u001b[32m     20\u001b[39m \u001b[38;5;66;03m# ---- Suppose each df has ZoneLifecycle column already\u001b[39;00m\n\u001b[32m---> \u001b[39m\u001b[32m21\u001b[39m \u001b[38;5;28;01mfor\u001b[39;00m tf_name, df \u001b[38;5;129;01min\u001b[39;00m \u001b[43mdfs\u001b[49m:\n\u001b[32m     22\u001b[39m     weight = tf_strength.get(tf_name, \u001b[32m1.0\u001b[39m)\n\u001b[32m     24\u001b[39m     \u001b[38;5;28;01mfor\u001b[39;00m _, row \u001b[38;5;129;01min\u001b[39;00m df.iterrows():\n",
      "\u001b[31mNameError\u001b[39m: name 'dfs' is not defined"
     ]
    }
   ],
   "source": [
    "import cv2\n",
    "import numpy as np\n",
    "import matplotlib.pyplot as plt\n",
    "\n",
    "# ---- Load saved chart image\n",
    "img = cv2.imread(\"./dataset/images/2400_big/zone_1324.png\")\n",
    "H, W, _ = img.shape\n",
    "\n",
    "# ---- Strength map\n",
    "strength_map = np.zeros((H, W), dtype=np.float32)\n",
    "\n",
    "# ---- Example TF strengths (you can tune these)\n",
    "tf_strength = {\n",
    "    \"1m\": 1.0,\n",
    "    \"5m\": 2.0,\n",
    "    \"1h\": 4.0,\n",
    "    \"1d\": 8.0,\n",
    "}\n",
    "\n",
    "# ---- Suppose each df has ZoneLifecycle column already\n",
    "for tf_name, df in dfs:\n",
    "    weight = tf_strength.get(tf_name, 1.0)\n",
    "\n",
    "    for _, row in df.iterrows():\n",
    "        if not row.get(\"ZoneLifecycle\"): \n",
    "            continue\n",
    "        for z in row[\"ZoneLifecycle\"]:\n",
    "            if z[\"status\"] != \"Active\":\n",
    "                continue\n",
    "\n",
    "            # Convert zone coords to pixel region\n",
    "            # NOTE: you already have x_left, x_right, y() funcs in your generate()\n",
    "            x1, x2 = 100, 200   # <-- placeholder: use your funcs\n",
    "            y1, y2 = 150, 250   # <-- placeholder: use your funcs\n",
    "\n",
    "            # Add strength\n",
    "            strength_map[y1:y2, x1:x2] += weight\n",
    "\n",
    "# ---- Normalize to [0,255]\n",
    "norm_map = cv2.normalize(strength_map, None, 0, 255, cv2.NORM_MINMAX).astype(np.uint8)\n",
    "\n",
    "# ---- Apply colormap\n",
    "heatmap = cv2.applyColorMap(norm_map, cv2.COLORMAP_JET)\n",
    "\n",
    "# ---- Blend with original chart\n",
    "blended = cv2.addWeighted(img, 0.7, heatmap, 0.5, 0)\n",
    "\n",
    "# ---- Show result\n",
    "plt.figure(figsize=(10,10))\n",
    "plt.imshow(cv2.cvtColor(blended, cv2.COLOR_BGR2RGB))\n",
    "plt.axis(\"off\")\n",
    "plt.show()\n"
   ]
  }
 ],
 "metadata": {
  "kernelspec": {
   "display_name": ".venv (3.13.7)",
   "language": "python",
   "name": "python3"
  },
  "language_info": {
   "codemirror_mode": {
    "name": "ipython",
    "version": 3
   },
   "file_extension": ".py",
   "mimetype": "text/x-python",
   "name": "python",
   "nbconvert_exporter": "python",
   "pygments_lexer": "ipython3",
   "version": "3.13.7"
  }
 },
 "nbformat": 4,
 "nbformat_minor": 5
}
