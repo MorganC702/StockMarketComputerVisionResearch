{
 "cells": [
  {
   "cell_type": "code",
   "execution_count": 5,
   "id": "6e77040e",
   "metadata": {},
   "outputs": [
    {
     "name": "stdout",
     "output_type": "stream",
     "text": [
      "Loaded image: 1440x800\n",
      "✅ Saved perfectly-aligned mask to ./zone_multiclass_mask.png\n"
     ]
    }
   ],
   "source": [
    "import cv2\n",
    "import numpy as np\n",
    "\n",
    "# --- Load image WITHOUT resizing ---\n",
    "image_path = \"./zone_199.png\"\n",
    "img = cv2.imread(image_path)\n",
    "if img is None:\n",
    "    raise ValueError(f\"Failed to load image at {image_path}\")\n",
    "\n",
    "# Get original size\n",
    "height, width = img.shape[:2]\n",
    "print(f\"Loaded image: {width}x{height}\")\n",
    "\n",
    "# Convert to HSV for color-based filtering\n",
    "hsv = cv2.cvtColor(img, cv2.COLOR_BGR2HSV)\n",
    "\n",
    "# --- Define HSV thresholds ---\n",
    "# Red (resistance)\n",
    "lower_red1 = np.array([0, 50, 50])\n",
    "upper_red1 = np.array([10, 255, 255])\n",
    "lower_red2 = np.array([160, 50, 50])\n",
    "upper_red2 = np.array([180, 255, 255])\n",
    "\n",
    "# Green (support)\n",
    "lower_green = np.array([40, 50, 50])\n",
    "upper_green = np.array([90, 255, 255])\n",
    "\n",
    "# --- Create masks ---\n",
    "red_mask = cv2.bitwise_or(\n",
    "    cv2.inRange(hsv, lower_red1, upper_red1),\n",
    "    cv2.inRange(hsv, lower_red2, upper_red2)\n",
    ")\n",
    "green_mask = cv2.inRange(hsv, lower_green, upper_green)\n",
    "\n",
    "# --- Initialize multi-class mask SAME SIZE as image ---\n",
    "zone_mask = np.zeros((height, width), dtype=np.uint8)\n",
    "\n",
    "# --- Function to fill in detected zones ---\n",
    "def apply_zones(binary_mask, class_id, min_w=50, min_h=10):\n",
    "    contours, _ = cv2.findContours(binary_mask, cv2.RETR_EXTERNAL, cv2.CHAIN_APPROX_SIMPLE)\n",
    "    for cnt in contours:\n",
    "        x, y, w, h = cv2.boundingRect(cnt)\n",
    "        if w > min_w and h > min_h:\n",
    "            cv2.drawContours(zone_mask, [cnt], -1, color=class_id, thickness=-1)\n",
    "\n",
    "# --- Detect and apply zones ---\n",
    "apply_zones(red_mask, class_id=1)\n",
    "apply_zones(green_mask, class_id=2)\n",
    "\n",
    "# --- Save final mask (unaltered resolution) ---\n",
    "cv2.imwrite(\"./zone_multiclass_mask.png\", zone_mask * 127)  # Scaled for grayscale visualization\n",
    "print(\"✅ Saved perfectly-aligned mask to ./zone_multiclass_mask.png\")\n"
   ]
  }
 ],
 "metadata": {
  "kernelspec": {
   "display_name": ".venv (3.13.7)",
   "language": "python",
   "name": "python3"
  },
  "language_info": {
   "codemirror_mode": {
    "name": "ipython",
    "version": 3
   },
   "file_extension": ".py",
   "mimetype": "text/x-python",
   "name": "python",
   "nbconvert_exporter": "python",
   "pygments_lexer": "ipython3",
   "version": "3.13.7"
  }
 },
 "nbformat": 4,
 "nbformat_minor": 5
}
