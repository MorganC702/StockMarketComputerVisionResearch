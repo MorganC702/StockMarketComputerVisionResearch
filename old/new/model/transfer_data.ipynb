{
 "cells": [
  {
   "cell_type": "code",
   "execution_count": 5,
   "id": "70939a58",
   "metadata": {},
   "outputs": [
    {
     "name": "stdout",
     "output_type": "stream",
     "text": [
      "Images found: 250602\n",
      "Labels found: 250601\n",
      "Sample image filenames: ['frame_32668.png', 'frame_92674.png', 'frame_200329.png', 'frame_219152.png', 'frame_210202.png']\n",
      "Sample label filenames: ['frame_51842.txt', 'frame_24989.txt', 'frame_30389.txt', 'frame_90105.txt', 'frame_46139.txt']\n"
     ]
    }
   ],
   "source": [
    "import os, glob\n",
    "\n",
    "img_dir = \"../dataset/1m/images\"\n",
    "lbl_dir = \"../dataset/1m/labels\"\n",
    "\n",
    "imgs = glob.glob(os.path.join(img_dir, \"*.png\"))\n",
    "lbls = glob.glob(os.path.join(lbl_dir, \"*.txt\"))\n",
    "\n",
    "print(f\"Images found: {len(imgs)}\")\n",
    "print(f\"Labels found: {len(lbls)}\")\n",
    "\n",
    "if imgs:\n",
    "    print(\"Sample image filenames:\", [os.path.basename(f) for f in imgs[:5]])\n",
    "if lbls:\n",
    "    print(\"Sample label filenames:\", [os.path.basename(f) for f in lbls[:5]])\n"
   ]
  },
  {
   "cell_type": "code",
   "execution_count": 7,
   "id": "b24a83f2",
   "metadata": {},
   "outputs": [
    {
     "name": "stdout",
     "output_type": "stream",
     "text": [
      "✅ Found 250601 matched pairs (out of 250602 images, 250601 labels)\n",
      "📂 train: 150360 images + 150360 labels\n",
      "📂 val: 50120 images + 50120 labels\n",
      "📂 test: 50121 images + 50121 labels\n"
     ]
    }
   ],
   "source": [
    "import os\n",
    "import shutil\n",
    "from glob import glob\n",
    "\n",
    "# --- Paths ---\n",
    "source_dir = \"../dataset/1m\"   # adjust per timeframe\n",
    "output_root = \"./yolo_training_data\"\n",
    "splits = {\"train\": 0.6, \"val\": 0.2, \"test\": 0.2}\n",
    "\n",
    "# --- Gather ---\n",
    "images = sorted(glob(os.path.join(source_dir, \"images\", \"*.png\")))\n",
    "labels = sorted(glob(os.path.join(source_dir, \"labels\", \"*.txt\")))\n",
    "\n",
    "# --- Normalize to common basename ---\n",
    "img_map = {os.path.splitext(os.path.basename(f))[0]: f for f in images}\n",
    "lbl_map = {os.path.splitext(os.path.basename(f))[0]: f for f in labels}\n",
    "\n",
    "# --- Intersect keys (matched pairs only) ---\n",
    "common_keys = sorted(set(img_map.keys()) & set(lbl_map.keys()))\n",
    "\n",
    "print(f\"✅ Found {len(common_keys)} matched pairs \"\n",
    "      f\"(out of {len(images)} images, {len(labels)} labels)\")\n",
    "\n",
    "# --- Build ordered lists ---\n",
    "images = [img_map[k] for k in common_keys]\n",
    "labels = [lbl_map[k] for k in common_keys]\n",
    "\n",
    "assert len(images) == len(labels)\n",
    "\n",
    "# --- Split chronologically ---\n",
    "n = len(images)\n",
    "n_train = int(n * splits[\"train\"])\n",
    "n_val = int(n * splits[\"val\"])\n",
    "n_test = n - n_train - n_val\n",
    "\n",
    "split_data = {\n",
    "    \"train\": (images[:n_train], labels[:n_train]),\n",
    "    \"val\":   (images[n_train:n_train + n_val], labels[n_train:n_train + n_val]),\n",
    "    \"test\":  (images[n_train + n_val:], labels[n_train + n_val:])\n",
    "}\n",
    "\n",
    "# --- Copy files into YOLO directory structure ---\n",
    "for split_name, (imgs, lbls) in split_data.items():\n",
    "    img_out = os.path.join(output_root, split_name, \"images\")\n",
    "    lbl_out = os.path.join(output_root, split_name, \"labels\")\n",
    "    os.makedirs(img_out, exist_ok=True)\n",
    "    os.makedirs(lbl_out, exist_ok=True)\n",
    "\n",
    "    for img, lbl in zip(imgs, lbls):\n",
    "        shutil.copy(img, img_out)\n",
    "        shutil.copy(lbl, lbl_out)\n",
    "\n",
    "    print(f\"📂 {split_name}: {len(imgs)} images + {len(lbls)} labels\")\n",
    "\n"
   ]
  }
 ],
 "metadata": {
  "kernelspec": {
   "display_name": ".venv",
   "language": "python",
   "name": "python3"
  },
  "language_info": {
   "codemirror_mode": {
    "name": "ipython",
    "version": 3
   },
   "file_extension": ".py",
   "mimetype": "text/x-python",
   "name": "python",
   "nbconvert_exporter": "python",
   "pygments_lexer": "ipython3",
   "version": "3.12.3"
  }
 },
 "nbformat": 4,
 "nbformat_minor": 5
}
