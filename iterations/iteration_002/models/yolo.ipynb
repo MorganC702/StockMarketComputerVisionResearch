{
 "cells": [
  {
   "cell_type": "markdown",
   "id": "ec85070c",
   "metadata": {},
   "source": [
    "## YOLO Pretrained Models: \n",
    "\n",
    "```Model\tSize\tSpeed (fast → slow)\tAccuracy (low → high)\n",
    "yolov8n.pt\tNano\tFastest Lowest accuracy\n",
    "yolov8s.pt\tSmall\tFast Better\n",
    "yolov8m.pt\tMedium\tBalanced Higher\n",
    "yolov8l.pt\tLarge\tSlower Very accurate\n",
    "yolov8x.pt\tX-Large\tSlowest\tMost accurate\n",
    "```"
   ]
  },
  {
   "cell_type": "code",
   "execution_count": null,
   "id": "1fa1aee0",
   "metadata": {},
   "outputs": [],
   "source": [
    "import torch\n",
    "print(\"CUDA available:\", torch.cuda.is_available())\n",
    "print(\"Device count:\", torch.cuda.device_count())\n",
    "if torch.cuda.is_available():\n",
    "    print(\"Current device:\", torch.cuda.current_device())\n",
    "    print(\"Device name:\", torch.cuda.get_device_name(torch.cuda.current_device()))\n"
   ]
  },
  {
   "cell_type": "code",
   "execution_count": null,
   "id": "59fecd43",
   "metadata": {},
   "outputs": [
    {
     "name": "stdout",
     "output_type": "stream",
     "text": [
      "Ultralytics 8.3.199 🚀 Python-3.13.7 torch-2.8.0 CPU (Apple M1 Pro)\n",
      "\u001b[34m\u001b[1mengine/trainer: \u001b[0magnostic_nms=False, amp=True, augment=False, auto_augment=randaugment, batch=16, bgr=0.0, box=7.5, cache=False, cfg=None, classes=None, close_mosaic=10, cls=0.5, compile=False, conf=None, copy_paste=0.0, copy_paste_mode=flip, cos_lr=False, cutmix=0.0, data=../iteration_002/dataset/data.yaml, degrees=0.0, deterministic=True, device=cpu, dfl=1.5, dnn=False, dropout=0.0, dynamic=False, embed=None, epochs=50, erasing=0.0, exist_ok=False, fliplr=0.0, flipud=0.0, format=torchscript, fraction=1.0, freeze=None, half=False, hsv_h=0.0, hsv_s=0.0, hsv_v=0.0, imgsz=640, int8=False, iou=0.7, keras=False, kobj=1.0, line_width=None, lr0=0.01, lrf=0.01, mask_ratio=4, max_det=300, mixup=0.0, mode=train, model=yolov8m.pt, momentum=0.937, mosaic=0.0, multi_scale=False, name=yolo_run_03, nbs=64, nms=False, opset=None, optimize=False, optimizer=auto, overlap_mask=True, patience=10, perspective=0.0, plots=True, pose=12.0, pretrained=True, profile=False, project=runs, rect=False, resume=False, retina_masks=False, save=True, save_conf=False, save_crop=False, save_dir=/Users/morgancooper/data-science/MSDSResearchProjects/StockMarketComputerVisionResearch/iterations/iteration_002/runs/yolo_run_03, save_frames=False, save_json=False, save_period=-1, save_txt=False, scale=0.0, seed=0, shear=0.0, show=False, show_boxes=True, show_conf=True, show_labels=True, simplify=True, single_cls=False, source=None, split=val, stream_buffer=False, task=detect, time=None, tracker=botsort.yaml, translate=0.0, val=True, verbose=True, vid_stride=1, visualize=False, warmup_bias_lr=0.1, warmup_epochs=3.0, warmup_momentum=0.8, weight_decay=0.0005, workers=8, workspace=None\n"
     ]
    }
   ],
   "source": [
    "\n",
    "import os\n",
    "import glob\n",
    "import ultralytics\n",
    "from ultralytics import YOLO\n",
    "import logging\n",
    "\n",
    "logging.getLogger(\"ultralytics\").setLevel(logging.INFO)\n",
    "\n",
    "# print(\"Ultralytics version:\", ultralytics.__version__)  # for debugging\n",
    "\n",
    "# Small pre-trained model. \n",
    "model = YOLO('yolov8n.pt')\n",
    "model.to('cuda')  # force GPU\n",
    "\n",
    "# print(model) # for debugging\n",
    "\n",
    "# Remove chached model version before running.\n",
    "for f in glob.glob(\"../**/*.cache\", recursive=True):\n",
    "    os.remove(f)\n",
    "\n",
    "model.train(\n",
    "    data='../iteration_002/dataset/data.yaml',\n",
    "    epochs=50,\n",
    "    imgsz=640,\n",
    "    batch=16,\n",
    "    patience=10,\n",
    "    project='runs',\n",
    "    name='yolo_run_0',\n",
    "    verbose=True,\n",
    "    \n",
    "    # Turn off augmentations for now since its simple charts and idk sh about f.\n",
    "    # we can add them back as we know wht they do and interate. \n",
    "    mosaic=0.0,\n",
    "    mixup=0.0,\n",
    "    copy_paste=0.0,\n",
    "    hsv_h=0.0,\n",
    "    hsv_s=0.0,\n",
    "    hsv_v=0.0,\n",
    "    translate=0.0,\n",
    "    shear=0.0,\n",
    "    scale=0.0,\n",
    "    perspective=0.0,\n",
    "    flipud=0.0,\n",
    "    fliplr=0.0,\n",
    "    erasing=0.0,\n",
    "\n",
    ")"
   ]
  },
  {
   "cell_type": "code",
   "execution_count": null,
   "id": "148a1df6",
   "metadata": {},
   "outputs": [],
   "source": [
    "# results = model.predict(\n",
    "#     source=\"../../iterations/iteration_002/dataset/images/test\",\n",
    "#     conf=0.25,\n",
    "#     save=True\n",
    "# )"
   ]
  }
 ],
 "metadata": {
  "kernelspec": {
   "display_name": ".venv (3.13.7)",
   "language": "python",
   "name": "python3"
  },
  "language_info": {
   "codemirror_mode": {
    "name": "ipython",
    "version": 3
   },
   "file_extension": ".py",
   "mimetype": "text/x-python",
   "name": "python",
   "nbconvert_exporter": "python",
   "pygments_lexer": "ipython3",
   "version": "3.13.7"
  }
 },
 "nbformat": 4,
 "nbformat_minor": 5
}
