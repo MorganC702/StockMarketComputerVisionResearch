{
 "cells": [
  {
   "cell_type": "code",
   "execution_count": null,
   "id": "fed0cac1",
   "metadata": {},
   "outputs": [],
   "source": [
    "import os\n",
    "import glob\n",
    "import ultralytics\n",
    "from ultralytics import YOLO\n",
    "\n",
    "model = YOLO('yolov8n.pt')\n",
    "model.to('cuda')"
   ]
  },
  {
   "cell_type": "code",
   "execution_count": null,
   "id": "37faf932",
   "metadata": {},
   "outputs": [],
   "source": [
    "for f in glob.glob(\"../**/*.cache\", recursive=True):\n",
    "    os.remove(f)\n",
    "\n",
    "model.train(\n",
    "    data='./yolo_train_data/data.yaml',\n",
    "    epochs=10 ,\n",
    "    # lr0=0.0003,\n",
    "    imgsz=640,\n",
    "    batch=16,\n",
    "    patience=10,\n",
    "    project='yolo',\n",
    "    name='yolo_run_',\n",
    "    device=0,\n",
    "    verbose=True,\n",
    "    workers=2,  # keep this small if RAM is tight\n",
    "    cache=False, # prevents loading the entire dataset into RAM\n",
    "\n",
    "    # Turn off augmentations for now since its simple charts and idk sh about f.\n",
    "    # we can add them back as we know wht they do and interate. \n",
    "    mosaic=0.0,\n",
    "    mixup=0.0,\n",
    "    copy_paste=0.0,\n",
    "    hsv_h=0.0,\n",
    "    hsv_s=0.0,\n",
    "    hsv_v=0.0,\n",
    "    shear=0.0,\n",
    "    perspective=0.0,\n",
    "    flipud=0.0,\n",
    "    fliplr=0.0,\n",
    "    erasing=0.0,\n",
    "\n",
    "    # Acceptable augmentations for stock data\n",
    "    translate=0.04,\n",
    "    scale=0.04 \n",
    ")"
   ]
  },
  {
   "cell_type": "code",
   "execution_count": null,
   "id": "88502273",
   "metadata": {},
   "outputs": [],
   "source": []
  },
  {
   "cell_type": "code",
   "execution_count": null,
   "id": "edbe7340",
   "metadata": {},
   "outputs": [],
   "source": []
  }
 ],
 "metadata": {
  "language_info": {
   "name": "python"
  }
 },
 "nbformat": 4,
 "nbformat_minor": 5
}
